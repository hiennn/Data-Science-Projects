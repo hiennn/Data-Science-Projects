{
 "cells": [
  {
   "cell_type": "markdown",
   "metadata": {},
   "source": [
    "# Project 1\n",
    "\n",
    "In this first project you will create a framework to scope out data science projects. This framework will provide you with a guide to develop a well-articulated problem statement and analysis plan that will be robust and reproducible."
   ]
  },
  {
   "cell_type": "markdown",
   "metadata": {},
   "source": [
    "## Part 1\n",
    "### Read and evaluate the following problem statement: \n",
    "Determine which free-tier customers will covert to paying customers, using demographic data collected at signup (age, gender, location, and profession) and customer useage data (days since last log in, and activity score 1 = active user, 0= inactive user) based on Hooli data from Jan-Apr 2015. \n"
   ]
  },
  {
   "cell_type": "markdown",
   "metadata": {},
   "source": [
    "#### 1. What is the outcome?"
   ]
  },
  {
   "cell_type": "markdown",
   "metadata": {},
   "source": [
    "Answer: return customer indicator to switch to paying (yes/no)"
   ]
  },
  {
   "cell_type": "markdown",
   "metadata": {},
   "source": [
    "#### 2. What are the predictors/covariates? "
   ]
  },
  {
   "cell_type": "markdown",
   "metadata": {},
   "source": [
    "Answer: Age, gender, location, profession, days since logged in, and activity score (acive/inactive)."
   ]
  },
  {
   "cell_type": "markdown",
   "metadata": {},
   "source": [
    "#### 3. What timeframe is this data relevent for?"
   ]
  },
  {
   "cell_type": "markdown",
   "metadata": {},
   "source": [
    "Answer: Jan-Apr 2015"
   ]
  },
  {
   "cell_type": "markdown",
   "metadata": {},
   "source": [
    "#### 4. What is the hypothesis?"
   ]
  },
  {
   "cell_type": "markdown",
   "metadata": {},
   "source": [
    "Answer: Demographic and customer useage information will allow us to predict if a free-tier customer will convert to a paying customer."
   ]
  },
  {
   "cell_type": "markdown",
   "metadata": {},
   "source": [
    "## Part 2. Let's get started with our dataset\n",
    "#### Take a look at admissions.csv and answer the remaining questions"
   ]
  },
  {
   "cell_type": "markdown",
   "metadata": {},
   "source": [
    "#### 1. Create a data dictionary "
   ]
  },
  {
   "cell_type": "markdown",
   "metadata": {},
   "source": [
    "Answer: \n",
    "\n",
    "Variable | Description | Type of Variable\n",
    "---| ---| ---\n",
    "Admit| 0 = not admitted 1 = admitted | categorical\n",
    "GRE | GRE score | continuous \n",
    "GPA | Grade Point Average | continuous\n",
    "Prestige | rank of undergraduate alma mater 1 - highest, 4 - lowest | categorical\n"
   ]
  },
  {
   "cell_type": "markdown",
   "metadata": {},
   "source": [
    "We would like to explore the association between X and Y "
   ]
  },
  {
   "cell_type": "markdown",
   "metadata": {},
   "source": [
    "#### 2. What is the outcome?"
   ]
  },
  {
   "cell_type": "markdown",
   "metadata": {},
   "source": [
    "Answer: return student admittance indicator (yes/no)"
   ]
  },
  {
   "cell_type": "markdown",
   "metadata": {},
   "source": [
    "#### 3. What are the predictors/covariates? "
   ]
  },
  {
   "cell_type": "markdown",
   "metadata": {},
   "source": [
    "Answer: GRE, GPA, and Prestige."
   ]
  },
  {
   "cell_type": "markdown",
   "metadata": {},
   "source": [
    "#### 4. What timeframe is this data relevent for?"
   ]
  },
  {
   "cell_type": "markdown",
   "metadata": {},
   "source": [
    "Answer: Current"
   ]
  },
  {
   "cell_type": "markdown",
   "metadata": {},
   "source": [
    "#### 4. What is the hypothesis?"
   ]
  },
  {
   "cell_type": "markdown",
   "metadata": {},
   "source": [
    "Answer: Candidate GRE score, GPA, and alma mater prestige rank will allow us to predict if a student candidate will be admitted to the UCLA graduate school."
   ]
  },
  {
   "cell_type": "markdown",
   "metadata": {},
   "source": [
    "## Part 3. Exploratory Analysis Plan\n",
    "Using the lab from class as a guide, create an exploratory analysis plan"
   ]
  },
  {
   "cell_type": "markdown",
   "metadata": {},
   "source": [
    "#### 1. Using the above information, write a well-formed problem statement."
   ]
  },
  {
   "cell_type": "markdown",
   "metadata": {},
   "source": [
    "Answer: It is hard to determine what makes a good candidate for graduate school. Does the GRE score or GPA solely play strong roles in a candidate's admittance? Or do the variance in GRE score, GPA, and alma mater prestige correlate? \n",
    "\n",
    "We will need to compare the variance between the GRE score, GPA, and alma mater to predict correlations for admittance. We hypothesize that the stronger the GRE score, GPA, and alma mater prestige rank, the higher chance the candidate will be admitted to the graduate school."
   ]
  },
  {
   "cell_type": "markdown",
   "metadata": {},
   "source": [
    "#### 2. What are the goals of exploratory analysis, in general? "
   ]
  },
  {
   "cell_type": "markdown",
   "metadata": {
    "collapsed": true
   },
   "source": [
    "Answer: To analyze data sets to describe/summarixe and visualize their characteristics for insight on relationships and hypothesis building. Once built, we can determine our hypothesis testing model to apply to the data set."
   ]
  },
  {
   "cell_type": "markdown",
   "metadata": {},
   "source": [
    "#### 3a. What are the assumptions of the distribution of data, in general? "
   ]
  },
  {
   "cell_type": "markdown",
   "metadata": {},
   "source": [
    "Answer: Generally the distribution of data is assumed to be normal, with a 0 mean and 1 standard deviation of distributed data (a bell shaped curve). "
   ]
  },
  {
   "cell_type": "markdown",
   "metadata": {},
   "source": [
    "#### 3b. How will determine the distribution of your data? "
   ]
  },
  {
   "cell_type": "markdown",
   "metadata": {
    "collapsed": true
   },
   "source": [
    "Answer: Test a random variable using a histogram or a calculating its expected value (average/mean)."
   ]
  },
  {
   "cell_type": "markdown",
   "metadata": {},
   "source": [
    "#### 4a. How might outliers impact your analysis? "
   ]
  },
  {
   "cell_type": "markdown",
   "metadata": {
    "collapsed": true
   },
   "source": [
    "Answer: Outliers affect the mean of the distribution (the expected value of a random variable/the measure of the center). It means the distribution of data has a really low value or a really high value and can effect the analysis. Depending on the analysis, the outlier can hurt the results and probabilities. "
   ]
  },
  {
   "cell_type": "markdown",
   "metadata": {},
   "source": [
    "#### 4b. How will you test for outliers? "
   ]
  },
  {
   "cell_type": "markdown",
   "metadata": {},
   "source": [
    "Answer: Determining the distribution skewness or box and whiskers chart or violin plot."
   ]
  },
  {
   "cell_type": "markdown",
   "metadata": {},
   "source": [
    "#### 5a. What is colinearity? "
   ]
  },
  {
   "cell_type": "markdown",
   "metadata": {
    "collapsed": true
   },
   "source": [
    "Answer: A correlation or association between 2 independent variables. The measure of the strength and direction of the linear relationship (falling on the same line) between the 2 variables."
   ]
  },
  {
   "cell_type": "markdown",
   "metadata": {},
   "source": [
    "#### 5b. How will you test for colinearity? "
   ]
  },
  {
   "cell_type": "markdown",
   "metadata": {},
   "source": [
    "Answer: By calculating covariance looking at a sample mean for each variable and then between the 2 variables, median, and standard deviation."
   ]
  },
  {
   "cell_type": "markdown",
   "metadata": {},
   "source": [
    "#### 5. What is your exploratory analysis plan?\n",
    "Using the steps we listed above, summarize an exploratory analysis plan that would allow you or a colleague to reproduce your analysis 1 year from now"
   ]
  },
  {
   "cell_type": "markdown",
   "metadata": {},
   "source": [
    "Answer: Explore the Admissions dataset by reviewing the top and bottom rows of the data followed by cleaning up the data (check for nulls and decide how to handle). Confirm the data match the data types we've previously determined (check the data dictionary). Make sure the column names match our previously determined names (i.e. rank should be prestige). \n",
    "\n",
    "Run the describe() method on a subset or entire population to review each variable's mean, median, mode, standard deviation. Utilize histograms and whisker and box plots to review distribution and test for outliers for each variable. For the purpose of this analysis, exclude any outliers to create a normal distribution.\n",
    "\n",
    "Determine the covariance of each pair of variables (GRE score with GPA, then GRE with Prestige, then GPA with Prestige). Compare with last year's results on each pair's strength and direction of the linear relationship. \n",
    "\n",
    "Test the hypothesis reviewing the p-value through a 2-sample t-test between each pair. "
   ]
  },
  {
   "cell_type": "markdown",
   "metadata": {},
   "source": [
    "## Bonus Questions:\n",
    "1. Outline your analysis method for predicting your outcome\n",
    "\n",
    "2. Write an alternative problem statement for your dataset\n",
    "\n",
    "3. Articulate the assumptions and risks of the alternative model"
   ]
  },
  {
   "cell_type": "markdown",
   "metadata": {},
   "source": [
    "1. See #5 above.\n",
    "\n",
    "2. What is the probability that another factor could play a role in a candidate's admittance, in combination of any of the existing variables? For example, a resume or personal statement or the extra curriculars of a candidate's background?\n",
    "\n",
    "3. The alternative model will have new assumptions and risks in analysis, mainly with additional variables the probability of risk (and hypothesis testing) will be more difficult to test."
   ]
  }
 ],
 "metadata": {
  "kernelspec": {
   "display_name": "Python 3",
   "language": "python",
   "name": "python3"
  },
  "language_info": {
   "codemirror_mode": {
    "name": "ipython",
    "version": 3
   },
   "file_extension": ".py",
   "mimetype": "text/x-python",
   "name": "python",
   "nbconvert_exporter": "python",
   "pygments_lexer": "ipython3",
   "version": "3.6.4"
  }
 },
 "nbformat": 4,
 "nbformat_minor": 1
}
