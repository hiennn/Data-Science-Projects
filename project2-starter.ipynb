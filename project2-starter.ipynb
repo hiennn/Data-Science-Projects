{
 "cells": [
  {
   "cell_type": "markdown",
   "metadata": {},
   "source": [
    "# Project 2\n",
    "\n",
    "In this project, you will implement the exploratory analysis plan developed in Project 1. This will lay the groundwork for our our first modeling exercise in Project 3."
   ]
  },
  {
   "cell_type": "markdown",
   "metadata": {},
   "source": [
    "### Step 1: Load the python libraries you will need for this project "
   ]
  },
  {
   "cell_type": "code",
   "execution_count": 1,
   "metadata": {},
   "outputs": [
    {
     "name": "stderr",
     "output_type": "stream",
     "text": [
      "/Users/Hien/anaconda3/lib/python3.6/site-packages/ipykernel_launcher.py:4: FutureWarning: The pandas.core.datetools module is deprecated and will be removed in a future version. Please use the pandas.tseries module instead.\n",
      "  after removing the cwd from sys.path.\n"
     ]
    }
   ],
   "source": [
    "#imports\n",
    "from __future__ import division\n",
    "import pandas as pd\n",
    "from pandas.core import datetools\n",
    "import numpy as np\n",
    "import matplotlib.pyplot as plt\n",
    "import statsmodels.api as sm\n",
    "import pylab as pl\n",
    "import numpy as np\n",
    "%matplotlib inline"
   ]
  },
  {
   "cell_type": "markdown",
   "metadata": {},
   "source": [
    "### Step 2: Read in your data set "
   ]
  },
  {
   "cell_type": "code",
   "execution_count": 2,
   "metadata": {},
   "outputs": [
    {
     "name": "stdout",
     "output_type": "stream",
     "text": [
      "   admit    gre   gpa  prestige\n",
      "0      0  380.0  3.61       3.0\n",
      "1      1  660.0  3.67       3.0\n",
      "2      1  800.0  4.00       1.0\n",
      "3      1  640.0  3.19       4.0\n",
      "4      0  520.0  2.93       4.0\n"
     ]
    }
   ],
   "source": [
    "#Read in data from source \n",
    "#df_raw = pd.read_csv(\"../assets/admissions.csv\")\n",
    "df_raw = pd.read_csv(\"/Users/Hien/Dropbox/ex/DS-SF-44/projects/unit-projects/project-2/assets/admissions.csv\")\n",
    "print(df_raw.head())"
   ]
  },
  {
   "cell_type": "markdown",
   "metadata": {},
   "source": [
    "## Questions\n",
    "#### Question 1. How many observations are in our dataset? \n"
   ]
  },
  {
   "cell_type": "code",
   "execution_count": 3,
   "metadata": {
    "scrolled": false
   },
   "outputs": [
    {
     "data": {
      "text/plain": [
       "admit       400\n",
       "gre         398\n",
       "gpa         398\n",
       "prestige    399\n",
       "dtype: int64"
      ]
     },
     "execution_count": 3,
     "metadata": {},
     "output_type": "execute_result"
    }
   ],
   "source": [
    "df_raw.count()"
   ]
  },
  {
   "cell_type": "markdown",
   "metadata": {},
   "source": [
    "Answer: 400"
   ]
  },
  {
   "cell_type": "markdown",
   "metadata": {},
   "source": [
    "#### Question 2. Create a summary table"
   ]
  },
  {
   "cell_type": "code",
   "execution_count": 4,
   "metadata": {},
   "outputs": [
    {
     "data": {
      "text/html": [
       "<div>\n",
       "<style scoped>\n",
       "    .dataframe tbody tr th:only-of-type {\n",
       "        vertical-align: middle;\n",
       "    }\n",
       "\n",
       "    .dataframe tbody tr th {\n",
       "        vertical-align: top;\n",
       "    }\n",
       "\n",
       "    .dataframe thead th {\n",
       "        text-align: right;\n",
       "    }\n",
       "</style>\n",
       "<table border=\"1\" class=\"dataframe\">\n",
       "  <thead>\n",
       "    <tr style=\"text-align: right;\">\n",
       "      <th></th>\n",
       "      <th>admit</th>\n",
       "      <th>gre</th>\n",
       "      <th>gpa</th>\n",
       "      <th>prestige</th>\n",
       "    </tr>\n",
       "  </thead>\n",
       "  <tbody>\n",
       "    <tr>\n",
       "      <th>count</th>\n",
       "      <td>400.000000</td>\n",
       "      <td>398.000000</td>\n",
       "      <td>398.00000</td>\n",
       "      <td>399.000000</td>\n",
       "    </tr>\n",
       "    <tr>\n",
       "      <th>mean</th>\n",
       "      <td>0.317500</td>\n",
       "      <td>588.040201</td>\n",
       "      <td>3.39093</td>\n",
       "      <td>2.486216</td>\n",
       "    </tr>\n",
       "    <tr>\n",
       "      <th>std</th>\n",
       "      <td>0.466087</td>\n",
       "      <td>115.628513</td>\n",
       "      <td>0.38063</td>\n",
       "      <td>0.945333</td>\n",
       "    </tr>\n",
       "    <tr>\n",
       "      <th>min</th>\n",
       "      <td>0.000000</td>\n",
       "      <td>220.000000</td>\n",
       "      <td>2.26000</td>\n",
       "      <td>1.000000</td>\n",
       "    </tr>\n",
       "    <tr>\n",
       "      <th>25%</th>\n",
       "      <td>0.000000</td>\n",
       "      <td>520.000000</td>\n",
       "      <td>3.13000</td>\n",
       "      <td>2.000000</td>\n",
       "    </tr>\n",
       "    <tr>\n",
       "      <th>50%</th>\n",
       "      <td>0.000000</td>\n",
       "      <td>580.000000</td>\n",
       "      <td>3.39500</td>\n",
       "      <td>2.000000</td>\n",
       "    </tr>\n",
       "    <tr>\n",
       "      <th>75%</th>\n",
       "      <td>1.000000</td>\n",
       "      <td>660.000000</td>\n",
       "      <td>3.67000</td>\n",
       "      <td>3.000000</td>\n",
       "    </tr>\n",
       "    <tr>\n",
       "      <th>max</th>\n",
       "      <td>1.000000</td>\n",
       "      <td>800.000000</td>\n",
       "      <td>4.00000</td>\n",
       "      <td>4.000000</td>\n",
       "    </tr>\n",
       "  </tbody>\n",
       "</table>\n",
       "</div>"
      ],
      "text/plain": [
       "            admit         gre        gpa    prestige\n",
       "count  400.000000  398.000000  398.00000  399.000000\n",
       "mean     0.317500  588.040201    3.39093    2.486216\n",
       "std      0.466087  115.628513    0.38063    0.945333\n",
       "min      0.000000  220.000000    2.26000    1.000000\n",
       "25%      0.000000  520.000000    3.13000    2.000000\n",
       "50%      0.000000  580.000000    3.39500    2.000000\n",
       "75%      1.000000  660.000000    3.67000    3.000000\n",
       "max      1.000000  800.000000    4.00000    4.000000"
      ]
     },
     "execution_count": 4,
     "metadata": {},
     "output_type": "execute_result"
    }
   ],
   "source": [
    "#function\n",
    "df_raw.describe()"
   ]
  },
  {
   "cell_type": "markdown",
   "metadata": {},
   "source": [
    "#### Question 3. Why would GRE have a larger STD than GPA?"
   ]
  },
  {
   "cell_type": "markdown",
   "metadata": {},
   "source": [
    "Answer: Because the range of data columns are different. GRE scores are in the hundreds thus have buckets of data where each standard deviation bucket is the length of 115.63. GPA scores are smaller rangers, no more than 4.0, thus have buckets of data with a deviation length of .38."
   ]
  },
  {
   "cell_type": "markdown",
   "metadata": {
    "collapsed": true
   },
   "source": [
    "#### Question 4. Drop data points with missing data\n"
   ]
  },
  {
   "cell_type": "code",
   "execution_count": 5,
   "metadata": {},
   "outputs": [],
   "source": [
    "df_raw_clean = df_raw.dropna()"
   ]
  },
  {
   "cell_type": "code",
   "execution_count": 6,
   "metadata": {},
   "outputs": [
    {
     "data": {
      "text/html": [
       "<div>\n",
       "<style scoped>\n",
       "    .dataframe tbody tr th:only-of-type {\n",
       "        vertical-align: middle;\n",
       "    }\n",
       "\n",
       "    .dataframe tbody tr th {\n",
       "        vertical-align: top;\n",
       "    }\n",
       "\n",
       "    .dataframe thead th {\n",
       "        text-align: right;\n",
       "    }\n",
       "</style>\n",
       "<table border=\"1\" class=\"dataframe\">\n",
       "  <thead>\n",
       "    <tr style=\"text-align: right;\">\n",
       "      <th></th>\n",
       "      <th>admit</th>\n",
       "      <th>gre</th>\n",
       "      <th>gpa</th>\n",
       "      <th>prestige</th>\n",
       "    </tr>\n",
       "  </thead>\n",
       "  <tbody>\n",
       "    <tr>\n",
       "      <th>0</th>\n",
       "      <td>0</td>\n",
       "      <td>380.0</td>\n",
       "      <td>3.61</td>\n",
       "      <td>3.0</td>\n",
       "    </tr>\n",
       "    <tr>\n",
       "      <th>1</th>\n",
       "      <td>1</td>\n",
       "      <td>660.0</td>\n",
       "      <td>3.67</td>\n",
       "      <td>3.0</td>\n",
       "    </tr>\n",
       "    <tr>\n",
       "      <th>2</th>\n",
       "      <td>1</td>\n",
       "      <td>800.0</td>\n",
       "      <td>4.00</td>\n",
       "      <td>1.0</td>\n",
       "    </tr>\n",
       "    <tr>\n",
       "      <th>3</th>\n",
       "      <td>1</td>\n",
       "      <td>640.0</td>\n",
       "      <td>3.19</td>\n",
       "      <td>4.0</td>\n",
       "    </tr>\n",
       "    <tr>\n",
       "      <th>4</th>\n",
       "      <td>0</td>\n",
       "      <td>520.0</td>\n",
       "      <td>2.93</td>\n",
       "      <td>4.0</td>\n",
       "    </tr>\n",
       "  </tbody>\n",
       "</table>\n",
       "</div>"
      ],
      "text/plain": [
       "   admit    gre   gpa  prestige\n",
       "0      0  380.0  3.61       3.0\n",
       "1      1  660.0  3.67       3.0\n",
       "2      1  800.0  4.00       1.0\n",
       "3      1  640.0  3.19       4.0\n",
       "4      0  520.0  2.93       4.0"
      ]
     },
     "execution_count": 6,
     "metadata": {},
     "output_type": "execute_result"
    }
   ],
   "source": [
    "df_raw_clean.head()"
   ]
  },
  {
   "cell_type": "code",
   "execution_count": 7,
   "metadata": {},
   "outputs": [
    {
     "data": {
      "text/html": [
       "<div>\n",
       "<style scoped>\n",
       "    .dataframe tbody tr th:only-of-type {\n",
       "        vertical-align: middle;\n",
       "    }\n",
       "\n",
       "    .dataframe tbody tr th {\n",
       "        vertical-align: top;\n",
       "    }\n",
       "\n",
       "    .dataframe thead th {\n",
       "        text-align: right;\n",
       "    }\n",
       "</style>\n",
       "<table border=\"1\" class=\"dataframe\">\n",
       "  <thead>\n",
       "    <tr style=\"text-align: right;\">\n",
       "      <th></th>\n",
       "      <th>admit</th>\n",
       "      <th>gre</th>\n",
       "      <th>gpa</th>\n",
       "      <th>prestige</th>\n",
       "    </tr>\n",
       "  </thead>\n",
       "  <tbody>\n",
       "    <tr>\n",
       "      <th>395</th>\n",
       "      <td>0</td>\n",
       "      <td>620.0</td>\n",
       "      <td>4.00</td>\n",
       "      <td>2.0</td>\n",
       "    </tr>\n",
       "    <tr>\n",
       "      <th>396</th>\n",
       "      <td>0</td>\n",
       "      <td>560.0</td>\n",
       "      <td>3.04</td>\n",
       "      <td>3.0</td>\n",
       "    </tr>\n",
       "    <tr>\n",
       "      <th>397</th>\n",
       "      <td>0</td>\n",
       "      <td>460.0</td>\n",
       "      <td>2.63</td>\n",
       "      <td>2.0</td>\n",
       "    </tr>\n",
       "    <tr>\n",
       "      <th>398</th>\n",
       "      <td>0</td>\n",
       "      <td>700.0</td>\n",
       "      <td>3.65</td>\n",
       "      <td>2.0</td>\n",
       "    </tr>\n",
       "    <tr>\n",
       "      <th>399</th>\n",
       "      <td>0</td>\n",
       "      <td>600.0</td>\n",
       "      <td>3.89</td>\n",
       "      <td>3.0</td>\n",
       "    </tr>\n",
       "  </tbody>\n",
       "</table>\n",
       "</div>"
      ],
      "text/plain": [
       "     admit    gre   gpa  prestige\n",
       "395      0  620.0  4.00       2.0\n",
       "396      0  560.0  3.04       3.0\n",
       "397      0  460.0  2.63       2.0\n",
       "398      0  700.0  3.65       2.0\n",
       "399      0  600.0  3.89       3.0"
      ]
     },
     "execution_count": 7,
     "metadata": {},
     "output_type": "execute_result"
    }
   ],
   "source": [
    "df_raw_clean.tail()"
   ]
  },
  {
   "cell_type": "code",
   "execution_count": 8,
   "metadata": {},
   "outputs": [
    {
     "data": {
      "text/plain": [
       "admit       397\n",
       "gre         397\n",
       "gpa         397\n",
       "prestige    397\n",
       "dtype: int64"
      ]
     },
     "execution_count": 8,
     "metadata": {},
     "output_type": "execute_result"
    }
   ],
   "source": [
    "df_raw_clean.count()"
   ]
  },
  {
   "cell_type": "code",
   "execution_count": 9,
   "metadata": {},
   "outputs": [
    {
     "name": "stdout",
     "output_type": "stream",
     "text": [
      "admit       0\n",
      "gre         0\n",
      "gpa         0\n",
      "prestige    0\n",
      "dtype: int64\n"
     ]
    }
   ],
   "source": [
    "print(df_raw_clean.isnull().sum())"
   ]
  },
  {
   "cell_type": "markdown",
   "metadata": {
    "collapsed": true
   },
   "source": [
    "#### Question 5. Confirm that you dropped the correct data. How can you tell? "
   ]
  },
  {
   "cell_type": "markdown",
   "metadata": {},
   "source": [
    "Answer: \n",
    "(1) Run the .count() function again to see how many records exist. If all Series/columns have the same count, it is a good assumption that the records with NaN are gone.\n",
    "\n",
    "(2) Run print(df_raw_clean.isnull().sum()) to see how many NaNs exist in each row. \n",
    "\n",
    "Another way, review the data in its entirety to see if there are any NaNs. May take a while though.\n",
    "\n",
    "Another way, use .isna() and .notna() to see which records are NaNs or not, respectively."
   ]
  },
  {
   "cell_type": "code",
   "execution_count": 10,
   "metadata": {},
   "outputs": [
    {
     "name": "stdout",
     "output_type": "stream",
     "text": [
      "     admit   gre   gpa  prestige\n",
      "0     True  True  True      True\n",
      "1     True  True  True      True\n",
      "2     True  True  True      True\n",
      "3     True  True  True      True\n",
      "4     True  True  True      True\n",
      "5     True  True  True      True\n",
      "6     True  True  True      True\n",
      "7     True  True  True      True\n",
      "8     True  True  True      True\n",
      "9     True  True  True      True\n",
      "10    True  True  True      True\n",
      "11    True  True  True      True\n",
      "12    True  True  True      True\n",
      "13    True  True  True      True\n",
      "14    True  True  True      True\n",
      "15    True  True  True      True\n",
      "16    True  True  True      True\n",
      "17    True  True  True      True\n",
      "18    True  True  True      True\n",
      "19    True  True  True      True\n",
      "20    True  True  True      True\n",
      "21    True  True  True      True\n",
      "22    True  True  True      True\n",
      "23    True  True  True      True\n",
      "24    True  True  True      True\n",
      "25    True  True  True      True\n",
      "26    True  True  True      True\n",
      "27    True  True  True      True\n",
      "28    True  True  True      True\n",
      "29    True  True  True      True\n",
      "..     ...   ...   ...       ...\n",
      "370   True  True  True      True\n",
      "371   True  True  True      True\n",
      "372   True  True  True      True\n",
      "373   True  True  True      True\n",
      "374   True  True  True      True\n",
      "375   True  True  True      True\n",
      "376   True  True  True      True\n",
      "377   True  True  True      True\n",
      "378   True  True  True      True\n",
      "379   True  True  True      True\n",
      "380   True  True  True      True\n",
      "381   True  True  True      True\n",
      "382   True  True  True      True\n",
      "383   True  True  True      True\n",
      "384   True  True  True      True\n",
      "385   True  True  True      True\n",
      "386   True  True  True      True\n",
      "387   True  True  True      True\n",
      "388   True  True  True      True\n",
      "389   True  True  True      True\n",
      "390   True  True  True      True\n",
      "391   True  True  True      True\n",
      "392   True  True  True      True\n",
      "393   True  True  True      True\n",
      "394   True  True  True      True\n",
      "395   True  True  True      True\n",
      "396   True  True  True      True\n",
      "397   True  True  True      True\n",
      "398   True  True  True      True\n",
      "399   True  True  True      True\n",
      "\n",
      "[397 rows x 4 columns]\n"
     ]
    }
   ],
   "source": [
    "#!\n",
    "print(df_raw_clean.notna())"
   ]
  },
  {
   "cell_type": "code",
   "execution_count": 11,
   "metadata": {},
   "outputs": [
    {
     "name": "stdout",
     "output_type": "stream",
     "text": [
      "     admit    gre    gpa  prestige\n",
      "0    False  False  False     False\n",
      "1    False  False  False     False\n",
      "2    False  False  False     False\n",
      "3    False  False  False     False\n",
      "4    False  False  False     False\n",
      "5    False  False  False     False\n",
      "6    False  False  False     False\n",
      "7    False  False  False     False\n",
      "8    False  False  False     False\n",
      "9    False  False  False     False\n",
      "10   False  False  False     False\n",
      "11   False  False  False     False\n",
      "12   False  False  False     False\n",
      "13   False  False  False     False\n",
      "14   False  False  False     False\n",
      "15   False  False  False     False\n",
      "16   False  False  False     False\n",
      "17   False  False  False     False\n",
      "18   False  False  False     False\n",
      "19   False  False  False     False\n",
      "20   False  False  False     False\n",
      "21   False  False  False     False\n",
      "22   False  False  False     False\n",
      "23   False  False  False     False\n",
      "24   False  False  False     False\n",
      "25   False  False  False     False\n",
      "26   False  False  False     False\n",
      "27   False  False  False     False\n",
      "28   False  False  False     False\n",
      "29   False  False  False     False\n",
      "..     ...    ...    ...       ...\n",
      "370  False  False  False     False\n",
      "371  False  False  False     False\n",
      "372  False  False  False     False\n",
      "373  False  False  False     False\n",
      "374  False  False  False     False\n",
      "375  False  False  False     False\n",
      "376  False  False  False     False\n",
      "377  False  False  False     False\n",
      "378  False  False  False     False\n",
      "379  False  False  False     False\n",
      "380  False  False  False     False\n",
      "381  False  False  False     False\n",
      "382  False  False  False     False\n",
      "383  False  False  False     False\n",
      "384  False  False  False     False\n",
      "385  False  False  False     False\n",
      "386  False  False  False     False\n",
      "387  False  False  False     False\n",
      "388  False  False  False     False\n",
      "389  False  False  False     False\n",
      "390  False  False  False     False\n",
      "391  False  False  False     False\n",
      "392  False  False  False     False\n",
      "393  False  False  False     False\n",
      "394  False  False  False     False\n",
      "395  False  False  False     False\n",
      "396  False  False  False     False\n",
      "397  False  False  False     False\n",
      "398  False  False  False     False\n",
      "399  False  False  False     False\n",
      "\n",
      "[397 rows x 4 columns]\n"
     ]
    }
   ],
   "source": [
    "#2\n",
    "print(df_raw_clean.isna())"
   ]
  },
  {
   "cell_type": "markdown",
   "metadata": {},
   "source": [
    "#### Question 6. Create box plots for GRE and GPA"
   ]
  },
  {
   "cell_type": "code",
   "execution_count": 12,
   "metadata": {},
   "outputs": [
    {
     "data": {
      "text/plain": [
       "<matplotlib.axes._subplots.AxesSubplot at 0x1c0c70cd30>"
      ]
     },
     "execution_count": 12,
     "metadata": {},
     "output_type": "execute_result"
    },
    {
     "data": {
      "image/png": "[encoded data removed]",
      "text/plain": [
       "<matplotlib.figure.Figure at 0x1c0c70c630>"
      ]
     },
     "metadata": {},
     "output_type": "display_data"
    }
   ],
   "source": [
    "#boxplot 1\n",
    "df_raw_clean.gre.plot.box()"
   ]
  },
  {
   "cell_type": "code",
   "execution_count": 13,
   "metadata": {},
   "outputs": [
    {
     "data": {
      "text/plain": [
       "<matplotlib.axes._subplots.AxesSubplot at 0x1c0c70c668>"
      ]
     },
     "execution_count": 13,
     "metadata": {},
     "output_type": "execute_result"
    },
    {
     "data": {
      "image/png": "[encoded data removed]",
      "text/plain": [
       "<matplotlib.figure.Figure at 0x1c15614fd0>"
      ]
     },
     "metadata": {},
     "output_type": "display_data"
    }
   ],
   "source": [
    "#boxplot 2 \n",
    "df_raw_clean.gpa.plot.box()"
   ]
  },
  {
   "cell_type": "markdown",
   "metadata": {},
   "source": [
    "#### Question 7. What do this plots show?"
   ]
  },
  {
   "cell_type": "markdown",
   "metadata": {},
   "source": [
    "Answer: Box plots summarize the distribution of the data: the ranges min and max values of 99% of the data in each Series, the median, the 1st and 3rd quartiles with the calculated IQR/range of variation, and where the outlier is if it exists (towards the max vs the min) to determine the distribution's skewness.\n",
    "\n",
    "gre:\n",
    "    Min: ~275\n",
    "    Max: ~800\n",
    "    Median: ~560\n",
    "    1st quartile: ~525\n",
    "    3rd quartile: ~650\n",
    "    Any outliers/skewness: ~325, ~210\n",
    "    \n",
    "gpa:\n",
    "    Min: ~2.40\n",
    "    Max: ~4.00\n",
    "    Median: ~3.40\n",
    "    1st quartile: ~3.15\n",
    "    3rd quartile: ~3.60\n",
    "    Any outliers/skewness: ~2.25    "
   ]
  },
  {
   "cell_type": "markdown",
   "metadata": {},
   "source": [
    "#### Question 8. Describe each distribution "
   ]
  },
  {
   "cell_type": "code",
   "execution_count": 14,
   "metadata": {},
   "outputs": [
    {
     "data": {
      "text/plain": [
       "array([[<matplotlib.axes._subplots.AxesSubplot object at 0x1c15628a58>,\n",
       "        <matplotlib.axes._subplots.AxesSubplot object at 0x1c15800710>],\n",
       "       [<matplotlib.axes._subplots.AxesSubplot object at 0x1c1583b390>,\n",
       "        <matplotlib.axes._subplots.AxesSubplot object at 0x1c1586e400>]],\n",
       "      dtype=object)"
      ]
     },
     "execution_count": 14,
     "metadata": {},
     "output_type": "execute_result"
    },
    {
     "data": {
      "image/png": "[encoded data removed]",
      "text/plain": [
       "<matplotlib.figure.Figure at 0x1c15712eb8>"
      ]
     },
     "metadata": {},
     "output_type": "display_data"
    }
   ],
   "source": [
    "# plot the distribution of each variable \n",
    "df_raw_clean.hist()"
   ]
  },
  {
   "cell_type": "markdown",
   "metadata": {},
   "source": [
    "#### Question 9.  If our model had an assumption of a normal distribution would we meet that requirement? "
   ]
  },
  {
   "cell_type": "markdown",
   "metadata": {},
   "source": [
    "Answer: No. because the our data looks to be Left Skewed. However, we could add samples of the data to our model if the sample sizes are more than 30, as these will likely be normal distributions (Central Limit Theorem)."
   ]
  },
  {
   "cell_type": "markdown",
   "metadata": {},
   "source": [
    "#### Question 10.  Does this distribution need correction? If so, why? How? "
   ]
  },
  {
   "cell_type": "markdown",
   "metadata": {},
   "source": [
    "Answer: Remove the outlier records based on the gre and gpa series to create a normal distribution of the data."
   ]
  },
  {
   "cell_type": "markdown",
   "metadata": {},
   "source": [
    "#### Question 11. Which of our variables are potentially colinear? "
   ]
  },
  {
   "cell_type": "code",
   "execution_count": 15,
   "metadata": {},
   "outputs": [
    {
     "data": {
      "text/html": [
       "<div>\n",
       "<style scoped>\n",
       "    .dataframe tbody tr th:only-of-type {\n",
       "        vertical-align: middle;\n",
       "    }\n",
       "\n",
       "    .dataframe tbody tr th {\n",
       "        vertical-align: top;\n",
       "    }\n",
       "\n",
       "    .dataframe thead th {\n",
       "        text-align: right;\n",
       "    }\n",
       "</style>\n",
       "<table border=\"1\" class=\"dataframe\">\n",
       "  <thead>\n",
       "    <tr style=\"text-align: right;\">\n",
       "      <th></th>\n",
       "      <th>admit</th>\n",
       "      <th>gre</th>\n",
       "      <th>gpa</th>\n",
       "      <th>prestige</th>\n",
       "    </tr>\n",
       "  </thead>\n",
       "  <tbody>\n",
       "    <tr>\n",
       "      <th>admit</th>\n",
       "      <td>1.000000</td>\n",
       "      <td>0.181202</td>\n",
       "      <td>0.174116</td>\n",
       "      <td>-0.243563</td>\n",
       "    </tr>\n",
       "    <tr>\n",
       "      <th>gre</th>\n",
       "      <td>0.181202</td>\n",
       "      <td>1.000000</td>\n",
       "      <td>0.382408</td>\n",
       "      <td>-0.124533</td>\n",
       "    </tr>\n",
       "    <tr>\n",
       "      <th>gpa</th>\n",
       "      <td>0.174116</td>\n",
       "      <td>0.382408</td>\n",
       "      <td>1.000000</td>\n",
       "      <td>-0.060976</td>\n",
       "    </tr>\n",
       "    <tr>\n",
       "      <th>prestige</th>\n",
       "      <td>-0.243563</td>\n",
       "      <td>-0.124533</td>\n",
       "      <td>-0.060976</td>\n",
       "      <td>1.000000</td>\n",
       "    </tr>\n",
       "  </tbody>\n",
       "</table>\n",
       "</div>"
      ],
      "text/plain": [
       "             admit       gre       gpa  prestige\n",
       "admit     1.000000  0.181202  0.174116 -0.243563\n",
       "gre       0.181202  1.000000  0.382408 -0.124533\n",
       "gpa       0.174116  0.382408  1.000000 -0.060976\n",
       "prestige -0.243563 -0.124533 -0.060976  1.000000"
      ]
     },
     "execution_count": 15,
     "metadata": {},
     "output_type": "execute_result"
    }
   ],
   "source": [
    "df_raw_clean.corr()"
   ]
  },
  {
   "cell_type": "code",
   "execution_count": 16,
   "metadata": {},
   "outputs": [
    {
     "name": "stdout",
     "output_type": "stream",
     "text": [
      "[[1.         0.99998788 0.9999775  ... 0.9999939  0.99998999 0.99999604]\n",
      " [0.99998788 1.         0.99999625 ... 0.99999896 0.99999929 0.99999775]\n",
      " [0.9999775  0.99999625 1.         ... 0.99999364 0.99999726 0.99999158]\n",
      " ...\n",
      " [0.9999939  0.99999896 0.99999364 ... 1.         0.99999923 0.99999977]\n",
      " [0.99998999 0.99999929 0.99999726 ... 0.99999923 1.         0.99999843]\n",
      " [0.99999604 0.99999775 0.99999158 ... 0.99999977 0.99999843 1.        ]]\n"
     ]
    }
   ],
   "source": [
    "# create a correlation matrix for the data\n",
    "print(np.corrcoef(df_raw_clean))"
   ]
  },
  {
   "cell_type": "code",
   "execution_count": 17,
   "metadata": {},
   "outputs": [
    {
     "data": {
      "text/plain": [
       "<matplotlib.image.AxesImage at 0x1c159a48d0>"
      ]
     },
     "execution_count": 17,
     "metadata": {},
     "output_type": "execute_result"
    },
    {
     "data": {
      "image/png": "[encoded data removed]",
      "text/plain": [
       "<matplotlib.figure.Figure at 0x1c158bd9e8>"
      ]
     },
     "metadata": {},
     "output_type": "display_data"
    }
   ],
   "source": [
    "plt.matshow(df_raw_clean.corr())\n",
    "## Not sure what this is telling me."
   ]
  },
  {
   "cell_type": "markdown",
   "metadata": {},
   "source": [
    "#### Question 12. What did you find?"
   ]
  },
  {
   "cell_type": "markdown",
   "metadata": {},
   "source": [
    "Answer: The strongest correlation relationship between admit and any independent variable is prestige with a negative relationship, as prestige decreases the more likely the admit. Overall the comparison between each relationship is not very different. Though GRE is the most positive relationship, it GPA's relationship to admit is not so far behind. \n",
    "\n",
    "The strongest positive relationship between any 2 variables is between GRE and GPA, meaning as GRE score increases, it is likely the candidate has a higher GPA."
   ]
  },
  {
   "cell_type": "markdown",
   "metadata": {},
   "source": [
    "#### Question 13. Write an analysis plan for exploring the association between grad school admissions rates and prestige of  undergraduate schools."
   ]
  },
  {
   "cell_type": "markdown",
   "metadata": {},
   "source": [
    "Answer: \n",
    "(1) Determine the question we want to answer: What makes a good candidate for graduate school. Does prestige of undergraduate schools correlate with graduate school admissions?\n",
    "\n",
    "(2) Review the distribution of the independent variable, prestige/rank. Use df_raw_clean.prestige.plot.box() to df_raw_clean.describe() to gather these descriptive stats.\n",
    "\n",
    "(3) Transform the data to remove NaNs and outliers so that we are analyzing about 95% of the dataset and can then say our findings have a .05 probability of error (95% chance of being accurate).\n",
    "\n",
    "(4) Use inferential stats to examine the covariance and correlation between prestige and admit. Use print(np.cov(df_raw_clean.prestige, df_raw_clean.admit)) to measure covariance/variance between the two variables and print(np.corrcoef(df_raw_clean.prestige, df_raw_clean.admit)) for the correlation/strength and direction of the relationship.\n",
    "    (a) We could run stats on samples of the distribution in sizes >30 to test for the entire population's correlation but this is a sample in itself and is relatively good size to examine as a whole."
   ]
  },
  {
   "cell_type": "code",
   "execution_count": 18,
   "metadata": {},
   "outputs": [
    {
     "name": "stdout",
     "output_type": "stream",
     "text": [
      "[[ 0.89696715 -0.10750452]\n",
      " [-0.10750452  0.21719716]]\n"
     ]
    }
   ],
   "source": [
    "print(np.cov(df_raw_clean.prestige, df_raw_clean.admit))"
   ]
  },
  {
   "cell_type": "code",
   "execution_count": 19,
   "metadata": {},
   "outputs": [
    {
     "name": "stdout",
     "output_type": "stream",
     "text": [
      "[[ 1.         -0.24356303]\n",
      " [-0.24356303  1.        ]]\n"
     ]
    }
   ],
   "source": [
    "print(np.corrcoef(df_raw_clean.prestige, df_raw_clean.admit))"
   ]
  },
  {
   "cell_type": "markdown",
   "metadata": {},
   "source": [
    "#### Question 14. What is your hypothesis? "
   ]
  },
  {
   "cell_type": "markdown",
   "metadata": {},
   "source": [
    "Answer: \n",
    "Null Hypotheses: We have 2 to disprove:\n",
    "(1) There is no correlation between the prestige of undergraduate schools with the admission to graduate school. \n",
    "(2) As prestige rank of undergraduate schools increases, the rate of admissions to graduate school either decreases or has no effect.\n",
    "\n",
    "Hypothesis: As prestige rank of undergraduate schools increases, the rate of admissions to graduate school increases meaning a higher likelihood of the candidate being accepted."
   ]
  },
  {
   "cell_type": "markdown",
   "metadata": {},
   "source": [
    "## Bonus/Advanced"
   ]
  },
  {
   "cell_type": "markdown",
   "metadata": {},
   "source": [
    "#### 1. Bonus: Explore alternatives to dropping obervations with missing data\n",
    "(1) We could impute for missing data by taking the average of each Series and plug in, using .fillna(). See Bonus question #3 below.\n",
    "\n",
    "(2) In general, maybe not for this data set, we could use algorithms that support missing values, such as k-Nearest Neighbors to ignor columns from a distance measure when a value is missing. Or classification and regression trees to use missing values as unique/different values to build a predictive model."
   ]
  },
  {
   "cell_type": "markdown",
   "metadata": {},
   "source": [
    "#### 2. Bonus: Log transform the skewed data\n",
    "Source: http://hamelg.blogspot.com/2015/11/python-for-data-analysis-part-16.html\n",
    "Notes from Source: Adding 1 before taking the log ensures we don't end up with negative values. Also note that neither of these transformations work on data containing negative values. To make them work on data with negative values add a constant to each value that is large enough to make all the data greater than or equal to 1 (such as adding the absolute value of the smallest number +1)\n",
    "Both the sqrt() and log() transforms reduced the skew of the data. It's still not quite normally distributed, but the amount of extreme data in the tails has been reduced to the point where we might not be so worried about it having a large influence on our results."
   ]
  },
  {
   "cell_type": "code",
   "execution_count": 20,
   "metadata": {},
   "outputs": [],
   "source": [
    "log_trans = (df_raw_clean+1).apply(np.log)"
   ]
  },
  {
   "cell_type": "code",
   "execution_count": 21,
   "metadata": {},
   "outputs": [
    {
     "data": {
      "text/plain": [
       "array([[<matplotlib.axes._subplots.AxesSubplot object at 0x1c167e6fd0>,\n",
       "        <matplotlib.axes._subplots.AxesSubplot object at 0x1c168a9fd0>],\n",
       "       [<matplotlib.axes._subplots.AxesSubplot object at 0x1c16842f60>,\n",
       "        <matplotlib.axes._subplots.AxesSubplot object at 0x1c1687bf60>]],\n",
       "      dtype=object)"
      ]
     },
     "execution_count": 21,
     "metadata": {},
     "output_type": "execute_result"
    },
    {
     "data": {
      "image/png": "[encoded data removed]",
      "text/plain": [
       "<matplotlib.figure.Figure at 0x1c159718d0>"
      ]
     },
     "metadata": {},
     "output_type": "display_data"
    }
   ],
   "source": [
    "log_trans.hist(figsize = (8,8),bins=50)"
   ]
  },
  {
   "cell_type": "markdown",
   "metadata": {},
   "source": [
    "#### 3. Advanced: Impute missing data\n",
    "Source: https://pandas.pydata.org/pandas-docs/stable/missing_data.html\n",
    "Source: https://machinelearningmastery.com/handle-missing-data-python/\n",
    "There are many options we could consider when replacing a missing value, for example:\n",
    "\n",
    "A constant value that has meaning within the domain, such as 0, distinct from all other values.\n",
    "A value from another randomly selected record.\n",
    "A mean, median or mode value for the column.\n",
    "A value estimated by another predictive model."
   ]
  },
  {
   "cell_type": "code",
   "execution_count": 22,
   "metadata": {},
   "outputs": [],
   "source": [
    "# Impute median (it's sturdier than mean in a skewed dataset) for the series' missing values:\n",
    "df_raw_clean_mdNaN = df_raw_clean.fillna(df_raw_clean.median())"
   ]
  }
 ],
 "metadata": {
  "kernelspec": {
   "display_name": "Python 3",
   "language": "python",
   "name": "python3"
  },
  "language_info": {
   "codemirror_mode": {
    "name": "ipython",
    "version": 3
   },
   "file_extension": ".py",
   "mimetype": "text/x-python",
   "name": "python",
   "nbconvert_exporter": "python",
   "pygments_lexer": "ipython3",
   "version": "3.6.4"
  }
 },
 "nbformat": 4,
 "nbformat_minor": 1
}
